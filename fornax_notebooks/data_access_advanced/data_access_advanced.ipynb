{
 "cells": [
  {
   "cell_type": "markdown",
   "id": "ba10c265",
   "metadata": {},
   "source": [
    "# This notebook will do the following\n",
    "\n",
    "* Explore, access, read, and retrieve data in the AWS S3 bucket for all archives (HEASARC, IRSA, and MAST)\n",
    "* Derived from: \n",
    "    * <a href=\"https://github.com/nasa-fornax/fornax-s3-subsets/blob/main/notebooks/astropy-s3-subsetting-demo.ipynb\">astropy-s3-subsetting</a>\n",
    "    * <a href=\"https://caltech-ipac.github.io/irsa-tutorials/tutorials/cloud_access/cloud-access-intro.html\">irsa-cloud-access</a>\n",
    "\n",
    "# What are your options? "
   ]
  },
  {
   "cell_type": "markdown",
   "id": "d57c94bf",
   "metadata": {},
   "source": [
    "## Data in the cloud:\n",
    "### AWS S3 cloud service\n",
    "   <a href=\"https://heasarc.gsfc.nasa.gov/docs/archive/cloud.html\">HEASARC Data in the Cloud</a>\n",
    "   \n",
    "   <a href=\"https://irsa.ipac.caltech.edu/cloud_access/\">IRSA Data in the cloud</a>\n",
    "   \n",
    "   <a href=\"https://outerspace.stsci.edu/display/MASTDOCS/Public+AWS+Data\"> MAST Data in the Cloud</a>\n",
    "   \n",
    "HEASARC, IRSA, and MAST provide their archival data accessible in the AWS S3 cloud service. Objects (i.e., data) are stored in buckets (i.e, containers) available on S3.  There are several ways you can search, access, and download data in S3, many of them available in Python. We describe the Python modules we will use down below, but remark other possible ways to explore S3 buckets:\n",
    "* <a href=\"https://heasarc.gsfc.nasa.gov/docs/archive/cloud/hark.html\">Hark search tool</a> (HEASARC specific)\n",
    "* Direct access using HTTPS (the \"standard\" or \"old\" way by going directly to those archives webpages)\n",
    "* AWS command line interface (CLI)\n",
    "\n",
    "### HEASARC/LAMBDA buckets\n",
    "You can find HEASARC or LAMBDA archival data in an S3 bucket in two ways and achieves the same purpose as the https:\n",
    "* nasa-heasarc : ``s3://nasa-heasarc/`` == ``https://nasa-heasarc.s3.amazonaws.com/`` == `` https://heasarc.gsfc.nasa.gov/FTP/``\n",
    "* nasa lambda : `` s3://nasa-lambda/`` == ``https://nasa-lambda.s3.amazonaws.com/`` == ``https://lambda.gsfc.nasa.gov/``\n",
    "\n",
    "It is the same for IRSA and MAST.\n",
    "\n",
    "### IRSA buckets\n",
    "* nasa-irsa : ``s3://nasa-irsa/`` == ``https://nasa-irsa.s3.amazonaws.com/`` == ``https://irsa.ipac.caltech.edu/FTP/``??\n",
    "* ipac-irsa : ``s3://ipac-irsa/`` == ``https://ipac-irsa.s3.amazonaws.com/`` == ``https://irsa.ipac.caltech.edu/FTP/``??\n",
    "\n",
    "\n",
    "### MAST bucket\n",
    "* stpubdata : ``s3://stpubdata/`` == ``https://stpubdata.s3.amazonaws.com/`` == ``https://archive.stsci.edu/FTP/``??"
   ]
  },
  {
   "cell_type": "markdown",
   "id": "b1e4842b",
   "metadata": {},
   "source": [
    "##  Python Tools: \n",
    "### 1. s3fs, fsspec, and boto3\n",
    "\n",
    "* ``s3fs`` enables browsing and accessing s3 bucket data structure and contents. \n",
    "* ``fsspec`` enables reading s3 bucket data.\n",
    "* ``boto3`` is the AWS bucket module which works similar to sf3s+fsspec but enables more direct interaction with bucket contents such as searching, retrieving, accessing, and downloading. \n",
    "    \n",
    "For astropy versions > 5.2, you can read the files in as if they were locally available!   \n",
    "\n",
    "### 2. pyvo\n",
    "* Virtual Observatory (VO) Python client.\n",
    "* Enables accessing remote data and services.\n",
    "* There are several ways to access data: table access protocol (TAP), simple image access (SIA), simple spectral access (SSA), and <a href=\"https://pyvo.readthedocs.io/en/latest/\">more</a>.\n",
    "   \n",
    "### 3. astroquery\n",
    "* A set of tools to perform queries using web forms and databases. \n",
    "   \n",
    "### 4. heasoftpy\n",
    "* The Python interface of HEASOFT. \n",
    "* Requires a working installation of HEASOFT.\n",
    "* Can work with streamed S3 files! This is a unique feature that not all softwares are yet capable of doing. Current software that do not enable streamed S3 files includ FermiScienceTools (and FermiPy by extension) and XMM SAS. "
   ]
  },
  {
   "cell_type": "markdown",
   "id": "e7d37cf7",
   "metadata": {},
   "source": [
    "## Caveats!\n",
    "S3 streaming inability for some softwares restricts users to downloading datasets locally. We recommend only doing this as necessary. As a last resort, one could, in principle, use S3FS-FUSE to mount the S3 buckets they need for direct access and use of those files without downloading locally, but this is not recommended. \n",
    "\n",
    "The most ideal method would be for all software to modernize to enable S3 file streaming. In the meantime, we recommend only downloading the data you need and only permanently store the absolutely necessary files. "
   ]
  },
  {
   "cell_type": "markdown",
   "id": "9abee75e",
   "metadata": {},
   "source": [
    "## Methods: \n",
    "### 1. ADQL query search with pyvo or astroquery \n",
    "* Astrophysics Data Query Language (ADQL) uses the same syntax and language as SQL (Standard Query Language). \n",
    "* You can make simple or complex search queries of catalogs, images, observational data, and more using this.\n",
    "\n",
    "### 2. TAP, SIA, SSA, SCS, and SLAP with pyvo\n",
    "* Retrieve data from source catalogs, image archives, spectrum archives, positional searches of a source catalog, and information for spectral lines. \n",
    "* Accepts ADQL searches, too."
   ]
  },
  {
   "cell_type": "code",
   "execution_count": null,
   "id": "3f32884a",
   "metadata": {},
   "outputs": [],
   "source": [
    "#examples of methods and tools "
   ]
  }
 ],
 "metadata": {
  "kernelspec": {
   "display_name": "Python 3 (ipykernel)",
   "language": "python",
   "name": "python3"
  },
  "language_info": {
   "codemirror_mode": {
    "name": "ipython",
    "version": 3
   },
   "file_extension": ".py",
   "mimetype": "text/x-python",
   "name": "python",
   "nbconvert_exporter": "python",
   "pygments_lexer": "ipython3",
   "version": "3.9.16"
  }
 },
 "nbformat": 4,
 "nbformat_minor": 5
}
